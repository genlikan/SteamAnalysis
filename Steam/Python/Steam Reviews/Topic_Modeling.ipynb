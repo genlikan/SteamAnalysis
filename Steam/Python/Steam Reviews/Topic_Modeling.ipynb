{
 "cells": [
  {
   "cell_type": "code",
   "execution_count": 1,
   "metadata": {
    "id": "Pa0r6_bQJBSw"
   },
   "outputs": [],
   "source": [
    "from gensim import corpora\n",
    "from gensim.models import LsiModel, LdaModel\n",
    "from gensim.parsing.preprocessing import preprocess_string\n",
    "\n",
    "import re"
   ]
  },
  {
   "cell_type": "code",
   "execution_count": 2,
   "metadata": {
    "id": "B-4ZTh4W45Mp"
   },
   "outputs": [],
   "source": [
    "def clean_text(x):\n",
    "  pattern = r'[^a-zA-z0-9\\s]'\n",
    "  text = re.sub(pattern, '', x)\n",
    "  return x"
   ]
  },
  {
   "cell_type": "code",
   "execution_count": 3,
   "metadata": {
    "id": "AQPb3WABJl9r"
   },
   "outputs": [],
   "source": [
    "def clean_numbers(x):\n",
    "  if bool(re.search(r'\\d', x)):\n",
    "    x = re.sub('[0-9]{5,}', '#####', x)\n",
    "    x = re.sub('[0-9]{4}', '####', x)\n",
    "    x = re.sub('[0-9]{3}', '###', x)\n",
    "    x = re.sub('[0-9]{2}', '##', x)\n",
    "    return x\n",
    "\n"
   ]
  },
  {
   "cell_type": "code",
   "execution_count": 4,
   "metadata": {
    "id": "z7gQD5vwJnUs"
   },
   "outputs": [],
   "source": [
    "def clean(x):\n",
    "  x = clean_text(x)\n",
    "  x = clean_numbers(x)\n",
    "  return x"
   ]
  },
  {
   "cell_type": "code",
   "execution_count": 5,
   "metadata": {
    "id": "wLF99Pb57X69"
   },
   "outputs": [],
   "source": [
    "# Create a model that uses LsiModel\n",
    "def create_lsa_model(documents, dictionary, number_of_topics):\n",
    "  document_terms = [dictionary.doc2bow(doc) for doc in documents]\n",
    "  return LsiModel(document_terms, num_topics=number_of_topics, id2word = dictionary)"
   ]
  },
  {
   "cell_type": "code",
   "execution_count": 6,
   "metadata": {
    "id": "hQ1svWCOQsxl"
   },
   "outputs": [],
   "source": [
    "#def prepare_documents(documents):\n",
    "#  print('Preparing documents')\n",
    " # documents = [clean(document) for document in documents]\n",
    "  #documents = [preprocess_string(doc) for doc in documents]\n",
    "  #return documents"
   ]
  },
  {
   "cell_type": "code",
   "execution_count": 7,
   "metadata": {
    "id": "a5_tgyqjicNt"
   },
   "outputs": [],
   "source": [
    "def prepare_documents(documents):\n",
    "  print('Preparing documents')\n",
    "  documents = [clean(document) for document in documents]\n",
    "  new_documents = []\n",
    "  for doc in documents:\n",
    "      if doc:\n",
    "          new_documents.append(preprocess_string(doc))\n",
    "  return new_documents\n"
   ]
  },
  {
   "cell_type": "code",
   "execution_count": 8,
   "metadata": {
    "id": "6D5_gdjL8jNM"
   },
   "outputs": [],
   "source": [
    "def run_lsa_process(documents, number_of_topics=10):\n",
    "  documents = prepare_documents(documents)\n",
    "  dictionary = corpora.Dictionary(documents)\n",
    "  lsa_model = create_lsa_model(documents, dictionary, number_of_topics)\n",
    "  print(lsa_model)\n",
    "  return documents, dictionary, lsa_model"
   ]
  },
  {
   "cell_type": "code",
   "execution_count": null,
   "metadata": {},
   "outputs": [],
   "source": []
  },
  {
   "cell_type": "code",
   "execution_count": 9,
   "metadata": {},
   "outputs": [
    {
     "name": "stdout",
     "output_type": "stream",
     "text": [
      "Total Elapsed time: 118.55 seconds\n"
     ]
    }
   ],
   "source": [
    "import numpy as np\n",
    "from steam_review_scraper import get_game_review \n",
    "import timeit\n",
    "\n",
    "start_time = timeit.default_timer()\n",
    "\n",
    "reviews = get_game_review(699130, language='english')\n",
    "\n",
    "elapsed_time = timeit.default_timer() - start_time\n",
    "print(f\"Total Elapsed time: {elapsed_time:.2f} seconds\")"
   ]
  },
  {
   "cell_type": "code",
   "execution_count": 10,
   "metadata": {
    "colab": {
     "base_uri": "https://localhost:8080/"
    },
    "id": "JRcHm3Fd6CLj",
    "outputId": "4eac05b9-491f-4d82-856d-741b735111a7"
   },
   "outputs": [
    {
     "name": "stdout",
     "output_type": "stream",
     "text": [
      "0       Basically  and  are included.Copied all my pro...\n",
      "1                                     Where is Brad Pitt?\n",
      "2                            the z stands for zombie guys\n",
      "3       is the game good? yes.is the online co-op fun?...\n",
      "4       : Most of us know the film by director Marc Fo...\n",
      "                              ...                        \n",
      "4171    This is a game to kill thousands of zombies an...\n",
      "4172    advertised as a new game but is basically a gl...\n",
      "4173    i cant use my ps5 controller, please steam to ...\n",
      "4174    If you have friends to play with, specially wi...\n",
      "4175    ohhhhhhhhhhh have a game in epic and steam ..b...\n",
      "Name: review, Length: 4176, dtype: object\n"
     ]
    }
   ],
   "source": [
    "# https://www.kaggle.com/datasets/tphaterp/pubmed-fibromyalgia-article-abstracts\n",
    "import pandas as pd\n",
    "df = reviews\n",
    "print(df['review'])\n",
    "reviews = df['review']\n",
    "# https://www.kaggle.com/datasets/gpreda/covid19-tweets\n"
   ]
  },
  {
   "cell_type": "code",
   "execution_count": 11,
   "metadata": {
    "id": "mksLmqanhPy3"
   },
   "outputs": [],
   "source": [
    "abstract_reviews = list(reviews)"
   ]
  },
  {
   "cell_type": "code",
   "execution_count": 12,
   "metadata": {
    "colab": {
     "base_uri": "https://localhost:8080/"
    },
    "id": "tKrsZQkLRT5C",
    "outputId": "bee0c0f9-a357-4bd1-ccf1-1e4c93a2fce8"
   },
   "outputs": [
    {
     "name": "stdout",
     "output_type": "stream",
     "text": [
      "Preparing documents\n",
      "LsiModel(num_terms=5884, num_topics=8, decay=1.0, chunksize=20000)\n"
     ]
    }
   ],
   "source": [
    "\n",
    "documents, dictionary, model = run_lsa_process(abstract_reviews, number_of_topics=8)"
   ]
  },
  {
   "cell_type": "code",
   "execution_count": 13,
   "metadata": {
    "colab": {
     "base_uri": "https://localhost:8080/"
    },
    "id": "fnYPO3b7RE8c",
    "outputId": "78ef0bab-ea51-4c6e-d289-0eb5b8381551"
   },
   "outputs": [
    {
     "data": {
      "text/plain": [
       "[(0,\n",
       "  '-0.670*\"game\" + -0.274*\"plai\" + -0.248*\"zombi\" + -0.215*\"like\" + -0.172*\"weapon\" + -0.139*\"level\" + -0.122*\"class\" + -0.112*\"hord\" + -0.102*\"time\" + -0.100*\"good\"'),\n",
       " (1,\n",
       "  '0.591*\"game\" + -0.377*\"zombi\" + -0.314*\"weapon\" + -0.191*\"class\" + -0.135*\"level\" + -0.121*\"like\" + -0.119*\"difficulti\" + -0.112*\"special\" + -0.104*\"differ\" + 0.097*\"epic\"'),\n",
       " (2,\n",
       "  '0.621*\"zombi\" + -0.375*\"plai\" + -0.208*\"weapon\" + -0.195*\"player\" + -0.143*\"difficulti\" + -0.142*\"level\" + 0.135*\"game\" + -0.115*\"bot\" + -0.108*\"time\" + -0.100*\"map\"'),\n",
       " (3,\n",
       "  '0.530*\"plai\" + -0.423*\"weapon\" + 0.225*\"like\" + -0.193*\"class\" + -0.188*\"game\" + -0.152*\"level\" + 0.145*\"dead\" + 0.124*\"left\" + 0.123*\"friend\" + 0.119*\"time\"'),\n",
       " (4,\n",
       "  '0.440*\"plai\" + -0.232*\"bot\" + -0.225*\"like\" + 0.221*\"zombi\" + -0.203*\"infect\" + -0.191*\"player\" + 0.130*\"class\" + -0.126*\"left\" + 0.116*\"mode\" + -0.116*\"wai\"'),\n",
       " (5,\n",
       "  '-0.319*\"good☐\" + 0.284*\"like\" + -0.210*\"grind\" + -0.200*\"bad☐\" + -0.200*\"zombi\" + -0.148*\"long\" + 0.146*\"left\" + -0.141*\"bug\" + -0.131*\"spare\" + -0.123*\"life\"'),\n",
       " (6,\n",
       "  '-0.362*\"new\" + -0.284*\"world\" + -0.249*\"war\" + 0.210*\"game\" + -0.160*\"like\" + -0.157*\"good☐\" + -0.142*\"dlc\" + -0.140*\"aftermath\" + 0.136*\"zombi\" + -0.135*\"charact\"'),\n",
       " (7,\n",
       "  '-0.512*\"like\" + 0.234*\"world\" + 0.226*\"player\" + 0.210*\"level\" + 0.172*\"plai\" + 0.171*\"war\" + -0.168*\"weapon\" + -0.164*\"gun\" + -0.145*\"hord\" + 0.134*\"left\"')]"
      ]
     },
     "execution_count": 13,
     "metadata": {},
     "output_type": "execute_result"
    }
   ],
   "source": [
    "model.print_topics()"
   ]
  },
  {
   "cell_type": "code",
   "execution_count": 15,
   "metadata": {
    "colab": {
     "base_uri": "https://localhost:8080/",
     "height": 206
    },
    "id": "R1gqt2Npel0s",
    "outputId": "81f60dd0-78af-4078-f3a3-55edce479980"
   },
   "outputs": [],
   "source": [
    "# abstracts_clean = df.dropna(subset=['abstract'])\n",
    "\n",
    "# abstracts_clean.head()"
   ]
  },
  {
   "cell_type": "code",
   "execution_count": 16,
   "metadata": {
    "id": "pGjxn62V7H_Q"
   },
   "outputs": [],
   "source": [
    "from gensim.models.coherencemodel import CoherenceModel\n",
    "\n",
    "def calculate_coherence_score(documents, dictionary, model):\n",
    "  coherence_model = CoherenceModel(model=model, texts=documents,dictionary=dictionary,coherence='c_v')\n",
    "  return coherence_model.get_coherence()"
   ]
  },
  {
   "cell_type": "code",
   "execution_count": 17,
   "metadata": {
    "id": "hFTquFzoKiUT"
   },
   "outputs": [],
   "source": [
    "def get_coherence_values(start, stop):\n",
    "  for num_topics in range(start, stop):\n",
    "    print(f'\\nCalculating coherence for {num_topics} topics')\n",
    "    documents, dictionary, model = run_lsa_process(reviews, number_of_topics=num_topics)\n",
    "    coherence = calculate_coherence_score(documents,dictionary,model)\n",
    "    yield coherence"
   ]
  },
  {
   "cell_type": "code",
   "execution_count": 18,
   "metadata": {
    "colab": {
     "base_uri": "https://localhost:8080/"
    },
    "id": "z90l2ZONqYwc",
    "outputId": "110ee5d5-177a-48f7-f515-3cb467e7d092"
   },
   "outputs": [
    {
     "name": "stdout",
     "output_type": "stream",
     "text": [
      "\n",
      "Calculating coherence for 20 topics\n",
      "Preparing documents\n",
      "LsiModel(num_terms=5884, num_topics=20, decay=1.0, chunksize=20000)\n",
      "\n",
      "Calculating coherence for 21 topics\n",
      "Preparing documents\n",
      "LsiModel(num_terms=5884, num_topics=21, decay=1.0, chunksize=20000)\n",
      "\n",
      "Calculating coherence for 22 topics\n",
      "Preparing documents\n",
      "LsiModel(num_terms=5884, num_topics=22, decay=1.0, chunksize=20000)\n",
      "\n",
      "Calculating coherence for 23 topics\n",
      "Preparing documents\n",
      "LsiModel(num_terms=5884, num_topics=23, decay=1.0, chunksize=20000)\n",
      "\n",
      "Calculating coherence for 24 topics\n",
      "Preparing documents\n",
      "LsiModel(num_terms=5884, num_topics=24, decay=1.0, chunksize=20000)\n"
     ]
    }
   ],
   "source": [
    "# calculate the coherence scores for a range between 20 and 25\n",
    "min_topics, max_topics = 20,25\n",
    "coherence_scores = list(get_coherence_values(min_topics, max_topics))"
   ]
  },
  {
   "cell_type": "code",
   "execution_count": 19,
   "metadata": {
    "colab": {
     "base_uri": "https://localhost:8080/",
     "height": 575
    },
    "id": "eA1Jkc6ds8sZ",
    "outputId": "1a95059c-f7f5-4d61-c437-603112b58162"
   },
   "outputs": [
    {
     "data": {
      "text/plain": [
       "Text(0.5, 1.0, 'Coherence Scores by number of Topics')"
      ]
     },
     "execution_count": 19,
     "metadata": {},
     "output_type": "execute_result"
    },
    {
     "data": {
      "image/png": "[encoded data removed]",
      "text/plain": [
       "<Figure size 1000x800 with 1 Axes>"
      ]
     },
     "metadata": {},
     "output_type": "display_data"
    }
   ],
   "source": [
    "# plot the coherence scores in the chart to see how many topics would be best\n",
    "%matplotlib inline\n",
    "import matplotlib.pyplot as plt\n",
    "import matplotlib.style as style\n",
    "style.use('fivethirtyeight')\n",
    "x = [int(i) for i in range(min_topics, max_topics)]\n",
    "plt.figure(figsize=(10,8))\n",
    "plt.plot(x, coherence_scores)\n",
    "plt.xlabel('Number of topics')\n",
    "plt.ylabel('Coherence Value')\n",
    "plt.title('Coherence Scores by number of Topics')"
   ]
  },
  {
   "cell_type": "markdown",
   "metadata": {
    "id": "Uc-EznBXtVUU"
   },
   "source": [
    "# LDA"
   ]
  },
  {
   "cell_type": "code",
   "execution_count": 20,
   "metadata": {},
   "outputs": [
    {
     "data": {
      "text/plain": [
       "0    Basically  and  are included.Copied all my pro...\n",
       "1                                  Where is Brad Pitt?\n",
       "2                         the z stands for zombie guys\n",
       "3    is the game good? yes.is the online co-op fun?...\n",
       "4    : Most of us know the film by director Marc Fo...\n",
       "Name: review, dtype: object"
      ]
     },
     "execution_count": 20,
     "metadata": {},
     "output_type": "execute_result"
    }
   ],
   "source": [
    "reviews.head()"
   ]
  },
  {
   "cell_type": "code",
   "execution_count": 21,
   "metadata": {},
   "outputs": [],
   "source": [
    "# Create a model that uses LdaModel\n",
    "def create_lda_model(documents, dictionary, number_of_topics):\n",
    "  document_terms = [dictionary.doc2bow(doc) for doc in documents]\n",
    "  return LdaModel(document_terms, num_topics=number_of_topics, id2word = dictionary)\n",
    "\n",
    "def run_lda_process(documents, number_of_topics=10):\n",
    "  documents = prepare_documents(documents)\n",
    "  dictionary = corpora.Dictionary(documents)\n",
    "  lda_model = create_lda_model(documents, dictionary, number_of_topics)\n",
    "  print(lda_model)\n",
    "  return documents, dictionary, lda_model"
   ]
  },
  {
   "cell_type": "code",
   "execution_count": 22,
   "metadata": {},
   "outputs": [],
   "source": [
    "corpus = [dictionary.doc2bow(doc) for doc in documents]"
   ]
  },
  {
   "cell_type": "code",
   "execution_count": 23,
   "metadata": {
    "colab": {
     "base_uri": "https://localhost:8080/",
     "height": 208
    },
    "id": "slH7JNNKtXHS",
    "outputId": "1e73d5e2-c489-494e-e0ec-bb2dae90a0cf",
    "scrolled": true
   },
   "outputs": [
    {
     "ename": "ValueError",
     "evalue": "not enough values to unpack (expected 2, got 1)",
     "output_type": "error",
     "traceback": [
      "\u001b[1;31m---------------------------------------------------------------------------\u001b[0m",
      "\u001b[1;31mValueError\u001b[0m                                Traceback (most recent call last)",
      "\u001b[1;32m~\\AppData\\Local\\Temp\\ipykernel_39368\\3467708108.py\u001b[0m in \u001b[0;36m<module>\u001b[1;34m\u001b[0m\n\u001b[0;32m      1\u001b[0m \u001b[1;31m# create an LdaModel instance that will learn on 10 topics\u001b[0m\u001b[1;33m\u001b[0m\u001b[1;33m\u001b[0m\u001b[0m\n\u001b[0;32m      2\u001b[0m \u001b[0mNUM_TOPICS\u001b[0m \u001b[1;33m=\u001b[0m \u001b[1;36m10\u001b[0m\u001b[1;33m\u001b[0m\u001b[1;33m\u001b[0m\u001b[0m\n\u001b[1;32m----> 3\u001b[1;33m \u001b[0mldamodel\u001b[0m \u001b[1;33m=\u001b[0m \u001b[0mLdaModel\u001b[0m\u001b[1;33m(\u001b[0m\u001b[0mreviews\u001b[0m\u001b[1;33m,\u001b[0m \u001b[0mnum_topics\u001b[0m \u001b[1;33m=\u001b[0m \u001b[0mNUM_TOPICS\u001b[0m\u001b[1;33m,\u001b[0m \u001b[0mid2word\u001b[0m\u001b[1;33m=\u001b[0m\u001b[0mdictionary\u001b[0m\u001b[1;33m,\u001b[0m \u001b[0mpasses\u001b[0m\u001b[1;33m=\u001b[0m\u001b[1;36m15\u001b[0m\u001b[1;33m)\u001b[0m\u001b[1;33m\u001b[0m\u001b[1;33m\u001b[0m\u001b[0m\n\u001b[0m",
      "\u001b[1;32m~\\anaconda3\\envs\\gpu-pls\\lib\\site-packages\\gensim\\models\\ldamodel.py\u001b[0m in \u001b[0;36m__init__\u001b[1;34m(self, corpus, num_topics, id2word, distributed, chunksize, passes, update_every, alpha, eta, decay, offset, eval_every, iterations, gamma_threshold, minimum_probability, random_state, ns_conf, minimum_phi_value, per_word_topics, callbacks, dtype)\u001b[0m\n\u001b[0;32m    518\u001b[0m             \u001b[0muse_numpy\u001b[0m \u001b[1;33m=\u001b[0m \u001b[0mself\u001b[0m\u001b[1;33m.\u001b[0m\u001b[0mdispatcher\u001b[0m \u001b[1;32mis\u001b[0m \u001b[1;32mnot\u001b[0m \u001b[1;32mNone\u001b[0m\u001b[1;33m\u001b[0m\u001b[1;33m\u001b[0m\u001b[0m\n\u001b[0;32m    519\u001b[0m             \u001b[0mstart\u001b[0m \u001b[1;33m=\u001b[0m \u001b[0mtime\u001b[0m\u001b[1;33m.\u001b[0m\u001b[0mtime\u001b[0m\u001b[1;33m(\u001b[0m\u001b[1;33m)\u001b[0m\u001b[1;33m\u001b[0m\u001b[1;33m\u001b[0m\u001b[0m\n\u001b[1;32m--> 520\u001b[1;33m             \u001b[0mself\u001b[0m\u001b[1;33m.\u001b[0m\u001b[0mupdate\u001b[0m\u001b[1;33m(\u001b[0m\u001b[0mcorpus\u001b[0m\u001b[1;33m,\u001b[0m \u001b[0mchunks_as_numpy\u001b[0m\u001b[1;33m=\u001b[0m\u001b[0muse_numpy\u001b[0m\u001b[1;33m)\u001b[0m\u001b[1;33m\u001b[0m\u001b[1;33m\u001b[0m\u001b[0m\n\u001b[0m\u001b[0;32m    521\u001b[0m             self.add_lifecycle_event(\n\u001b[0;32m    522\u001b[0m                 \u001b[1;34m\"created\"\u001b[0m\u001b[1;33m,\u001b[0m\u001b[1;33m\u001b[0m\u001b[1;33m\u001b[0m\u001b[0m\n",
      "\u001b[1;32m~\\anaconda3\\envs\\gpu-pls\\lib\\site-packages\\gensim\\models\\ldamodel.py\u001b[0m in \u001b[0;36mupdate\u001b[1;34m(self, corpus, chunksize, decay, offset, passes, update_every, eval_every, iterations, gamma_threshold, chunks_as_numpy)\u001b[0m\n\u001b[0;32m   1003\u001b[0m                         \u001b[0mpass_\u001b[0m\u001b[1;33m,\u001b[0m \u001b[0mchunk_no\u001b[0m \u001b[1;33m*\u001b[0m \u001b[0mchunksize\u001b[0m \u001b[1;33m+\u001b[0m \u001b[0mlen\u001b[0m\u001b[1;33m(\u001b[0m\u001b[0mchunk\u001b[0m\u001b[1;33m)\u001b[0m\u001b[1;33m,\u001b[0m \u001b[0mlencorpus\u001b[0m\u001b[1;33m\u001b[0m\u001b[1;33m\u001b[0m\u001b[0m\n\u001b[0;32m   1004\u001b[0m                     )\n\u001b[1;32m-> 1005\u001b[1;33m                     \u001b[0mgammat\u001b[0m \u001b[1;33m=\u001b[0m \u001b[0mself\u001b[0m\u001b[1;33m.\u001b[0m\u001b[0mdo_estep\u001b[0m\u001b[1;33m(\u001b[0m\u001b[0mchunk\u001b[0m\u001b[1;33m,\u001b[0m \u001b[0mother\u001b[0m\u001b[1;33m)\u001b[0m\u001b[1;33m\u001b[0m\u001b[1;33m\u001b[0m\u001b[0m\n\u001b[0m\u001b[0;32m   1006\u001b[0m \u001b[1;33m\u001b[0m\u001b[0m\n\u001b[0;32m   1007\u001b[0m                     \u001b[1;32mif\u001b[0m \u001b[0mself\u001b[0m\u001b[1;33m.\u001b[0m\u001b[0moptimize_alpha\u001b[0m\u001b[1;33m:\u001b[0m\u001b[1;33m\u001b[0m\u001b[1;33m\u001b[0m\u001b[0m\n",
      "\u001b[1;32m~\\anaconda3\\envs\\gpu-pls\\lib\\site-packages\\gensim\\models\\ldamodel.py\u001b[0m in \u001b[0;36mdo_estep\u001b[1;34m(self, chunk, state)\u001b[0m\n\u001b[0;32m    765\u001b[0m         \u001b[1;32mif\u001b[0m \u001b[0mstate\u001b[0m \u001b[1;32mis\u001b[0m \u001b[1;32mNone\u001b[0m\u001b[1;33m:\u001b[0m\u001b[1;33m\u001b[0m\u001b[1;33m\u001b[0m\u001b[0m\n\u001b[0;32m    766\u001b[0m             \u001b[0mstate\u001b[0m \u001b[1;33m=\u001b[0m \u001b[0mself\u001b[0m\u001b[1;33m.\u001b[0m\u001b[0mstate\u001b[0m\u001b[1;33m\u001b[0m\u001b[1;33m\u001b[0m\u001b[0m\n\u001b[1;32m--> 767\u001b[1;33m         \u001b[0mgamma\u001b[0m\u001b[1;33m,\u001b[0m \u001b[0msstats\u001b[0m \u001b[1;33m=\u001b[0m \u001b[0mself\u001b[0m\u001b[1;33m.\u001b[0m\u001b[0minference\u001b[0m\u001b[1;33m(\u001b[0m\u001b[0mchunk\u001b[0m\u001b[1;33m,\u001b[0m \u001b[0mcollect_sstats\u001b[0m\u001b[1;33m=\u001b[0m\u001b[1;32mTrue\u001b[0m\u001b[1;33m)\u001b[0m\u001b[1;33m\u001b[0m\u001b[1;33m\u001b[0m\u001b[0m\n\u001b[0m\u001b[0;32m    768\u001b[0m         \u001b[0mstate\u001b[0m\u001b[1;33m.\u001b[0m\u001b[0msstats\u001b[0m \u001b[1;33m+=\u001b[0m \u001b[0msstats\u001b[0m\u001b[1;33m\u001b[0m\u001b[1;33m\u001b[0m\u001b[0m\n\u001b[0;32m    769\u001b[0m         \u001b[0mstate\u001b[0m\u001b[1;33m.\u001b[0m\u001b[0mnumdocs\u001b[0m \u001b[1;33m+=\u001b[0m \u001b[0mgamma\u001b[0m\u001b[1;33m.\u001b[0m\u001b[0mshape\u001b[0m\u001b[1;33m[\u001b[0m\u001b[1;36m0\u001b[0m\u001b[1;33m]\u001b[0m  \u001b[1;31m# avoids calling len(chunk) on a generator\u001b[0m\u001b[1;33m\u001b[0m\u001b[1;33m\u001b[0m\u001b[0m\n",
      "\u001b[1;32m~\\anaconda3\\envs\\gpu-pls\\lib\\site-packages\\gensim\\models\\ldamodel.py\u001b[0m in \u001b[0;36minference\u001b[1;34m(self, chunk, collect_sstats)\u001b[0m\n\u001b[0;32m    696\u001b[0m             \u001b[1;32mif\u001b[0m \u001b[0mlen\u001b[0m\u001b[1;33m(\u001b[0m\u001b[0mdoc\u001b[0m\u001b[1;33m)\u001b[0m \u001b[1;33m>\u001b[0m \u001b[1;36m0\u001b[0m \u001b[1;32mand\u001b[0m \u001b[1;32mnot\u001b[0m \u001b[0misinstance\u001b[0m\u001b[1;33m(\u001b[0m\u001b[0mdoc\u001b[0m\u001b[1;33m[\u001b[0m\u001b[1;36m0\u001b[0m\u001b[1;33m]\u001b[0m\u001b[1;33m[\u001b[0m\u001b[1;36m0\u001b[0m\u001b[1;33m]\u001b[0m\u001b[1;33m,\u001b[0m \u001b[0minteger_types\u001b[0m\u001b[1;33m)\u001b[0m\u001b[1;33m:\u001b[0m\u001b[1;33m\u001b[0m\u001b[1;33m\u001b[0m\u001b[0m\n\u001b[0;32m    697\u001b[0m                 \u001b[1;31m# make sure the term IDs are ints, otherwise np will get upset\u001b[0m\u001b[1;33m\u001b[0m\u001b[1;33m\u001b[0m\u001b[0m\n\u001b[1;32m--> 698\u001b[1;33m                 \u001b[0mids\u001b[0m \u001b[1;33m=\u001b[0m \u001b[1;33m[\u001b[0m\u001b[0mint\u001b[0m\u001b[1;33m(\u001b[0m\u001b[0midx\u001b[0m\u001b[1;33m)\u001b[0m \u001b[1;32mfor\u001b[0m \u001b[0midx\u001b[0m\u001b[1;33m,\u001b[0m \u001b[0m_\u001b[0m \u001b[1;32min\u001b[0m \u001b[0mdoc\u001b[0m\u001b[1;33m]\u001b[0m\u001b[1;33m\u001b[0m\u001b[1;33m\u001b[0m\u001b[0m\n\u001b[0m\u001b[0;32m    699\u001b[0m             \u001b[1;32melse\u001b[0m\u001b[1;33m:\u001b[0m\u001b[1;33m\u001b[0m\u001b[1;33m\u001b[0m\u001b[0m\n\u001b[0;32m    700\u001b[0m                 \u001b[0mids\u001b[0m \u001b[1;33m=\u001b[0m \u001b[1;33m[\u001b[0m\u001b[0midx\u001b[0m \u001b[1;32mfor\u001b[0m \u001b[0midx\u001b[0m\u001b[1;33m,\u001b[0m \u001b[0m_\u001b[0m \u001b[1;32min\u001b[0m \u001b[0mdoc\u001b[0m\u001b[1;33m]\u001b[0m\u001b[1;33m\u001b[0m\u001b[1;33m\u001b[0m\u001b[0m\n",
      "\u001b[1;32m~\\anaconda3\\envs\\gpu-pls\\lib\\site-packages\\gensim\\models\\ldamodel.py\u001b[0m in \u001b[0;36m<listcomp>\u001b[1;34m(.0)\u001b[0m\n\u001b[0;32m    696\u001b[0m             \u001b[1;32mif\u001b[0m \u001b[0mlen\u001b[0m\u001b[1;33m(\u001b[0m\u001b[0mdoc\u001b[0m\u001b[1;33m)\u001b[0m \u001b[1;33m>\u001b[0m \u001b[1;36m0\u001b[0m \u001b[1;32mand\u001b[0m \u001b[1;32mnot\u001b[0m \u001b[0misinstance\u001b[0m\u001b[1;33m(\u001b[0m\u001b[0mdoc\u001b[0m\u001b[1;33m[\u001b[0m\u001b[1;36m0\u001b[0m\u001b[1;33m]\u001b[0m\u001b[1;33m[\u001b[0m\u001b[1;36m0\u001b[0m\u001b[1;33m]\u001b[0m\u001b[1;33m,\u001b[0m \u001b[0minteger_types\u001b[0m\u001b[1;33m)\u001b[0m\u001b[1;33m:\u001b[0m\u001b[1;33m\u001b[0m\u001b[1;33m\u001b[0m\u001b[0m\n\u001b[0;32m    697\u001b[0m                 \u001b[1;31m# make sure the term IDs are ints, otherwise np will get upset\u001b[0m\u001b[1;33m\u001b[0m\u001b[1;33m\u001b[0m\u001b[0m\n\u001b[1;32m--> 698\u001b[1;33m                 \u001b[0mids\u001b[0m \u001b[1;33m=\u001b[0m \u001b[1;33m[\u001b[0m\u001b[0mint\u001b[0m\u001b[1;33m(\u001b[0m\u001b[0midx\u001b[0m\u001b[1;33m)\u001b[0m \u001b[1;32mfor\u001b[0m \u001b[0midx\u001b[0m\u001b[1;33m,\u001b[0m \u001b[0m_\u001b[0m \u001b[1;32min\u001b[0m \u001b[0mdoc\u001b[0m\u001b[1;33m]\u001b[0m\u001b[1;33m\u001b[0m\u001b[1;33m\u001b[0m\u001b[0m\n\u001b[0m\u001b[0;32m    699\u001b[0m             \u001b[1;32melse\u001b[0m\u001b[1;33m:\u001b[0m\u001b[1;33m\u001b[0m\u001b[1;33m\u001b[0m\u001b[0m\n\u001b[0;32m    700\u001b[0m                 \u001b[0mids\u001b[0m \u001b[1;33m=\u001b[0m \u001b[1;33m[\u001b[0m\u001b[0midx\u001b[0m \u001b[1;32mfor\u001b[0m \u001b[0midx\u001b[0m\u001b[1;33m,\u001b[0m \u001b[0m_\u001b[0m \u001b[1;32min\u001b[0m \u001b[0mdoc\u001b[0m\u001b[1;33m]\u001b[0m\u001b[1;33m\u001b[0m\u001b[1;33m\u001b[0m\u001b[0m\n",
      "\u001b[1;31mValueError\u001b[0m: not enough values to unpack (expected 2, got 1)"
     ]
    }
   ],
   "source": [
    "# create an LdaModel instance that will learn on 10 topics\n",
    "NUM_TOPICS = 10\n",
    "ldamodel = LdaModel(reviews, num_topics = NUM_TOPICS, id2word=dictionary, passes=15)"
   ]
  },
  {
   "cell_type": "code",
   "execution_count": null,
   "metadata": {
    "id": "HCV1YNAGtbOF"
   },
   "outputs": [],
   "source": [
    "#  calculate the coherence scores\n",
    "from gensim.models.coherencemodel import CoherenceModel\n",
    "def calculate_coherence_score(documents, dictionary, model):\n",
    "  coherence_model = CoherenceModel(model=model, texts=documents, dictionary=dictionary,coherence='c_v');\n",
    "  return coherence_model.get_coherence()\n",
    "\n",
    "def get_coherence_values(start, stop):\n",
    "  for num_topics in range(start, stop):\n",
    "    print(f'\\nCalculating coherence for {num_topics} topics')\n",
    "    ldamodel = LdaModel(corpus, num_topics = num_topics, id2word=dictionary, passes=2)\n",
    "    coherence = calculate_coherence_score(corpus, dictionary, ldamodel)\n",
    "    yield coherence"
   ]
  },
  {
   "cell_type": "code",
   "execution_count": null,
   "metadata": {
    "id": "ug0altchtfBL"
   },
   "outputs": [],
   "source": [
    "# create a list of the coherence scores from 10 to 30 topics\n",
    "min_topics, max_topics = 10,30\n",
    "coherence_scores = list(get_coherence_values(min_topics, max_topics))"
   ]
  },
  {
   "cell_type": "code",
   "execution_count": null,
   "metadata": {
    "id": "cuPTeMeUtiqc"
   },
   "outputs": [],
   "source": [
    "#plot the coherence scores\n",
    "import matplotlib.pyplot as plt\n",
    "import matplotlib.style as style\n",
    "from matplotlib.ticker import MaxNLocator\n",
    "style.use('fivethirtyeight')\n",
    "%matplotlib inline\n",
    "x = [int(i) for i in range(min_topics, max_topics)]\n",
    "ax = plt.figure(figsize=(10,8))\n",
    "plt.xticks(x)\n",
    "plt.plot(x, coherence_scores)\n",
    "plt.xlabel('Number of topics')\n",
    "plt.ylabel('Coherence Value')\n",
    "plt.title('Coherence Scores', fontsize=10);"
   ]
  },
  {
   "cell_type": "code",
   "execution_count": null,
   "metadata": {
    "id": "__E8_OyP8RvE"
   },
   "outputs": [],
   "source": [
    "from gensim import corpora\n",
    "from gensim.models.ldamodel import LdaModel\n",
    "dictionary = corpora.Dictionary(abstracts_doc)\n",
    "corpus = [dictionary.doc2bow(text) for text in abstracts_doc]\n",
    "NUM_TOPICS = 8\n",
    "ldamodel = LdaModel(corpus, num_topics = NUM_TOPICS, id2word=dictionary, passes=15)"
   ]
  },
  {
   "cell_type": "code",
   "execution_count": null,
   "metadata": {
    "id": "LQpktCWy8Th1"
   },
   "outputs": [],
   "source": [
    "ldamodel.print_topics(num_words=6)"
   ]
  },
  {
   "cell_type": "code",
   "execution_count": null,
   "metadata": {
    "id": "oRhOuPno8n5p"
   },
   "outputs": [],
   "source": [
    "for index, topic in ldamodel.show_topics(formatted=False, num_words= 30):\n",
    "    print('Topic: {} \\nWords: {}'.format(index, [w[0] for w in topic]))"
   ]
  },
  {
   "cell_type": "code",
   "execution_count": null,
   "metadata": {
    "id": "-c2Vz3wj8qdy"
   },
   "outputs": [],
   "source": [
    "for idx, topic in ldamodel.print_topics(-1):\n",
    "    print('Topic: {} Word: {}'.format(idx, topic))"
   ]
  },
  {
   "cell_type": "code",
   "execution_count": null,
   "metadata": {
    "id": "LXsVdGwk9B1q"
   },
   "outputs": [],
   "source": [
    "lda_model:LdaModel = LdaModel(corpus, num_topics=50, passes=4)"
   ]
  },
  {
   "cell_type": "markdown",
   "metadata": {
    "id": "PL9WAcO5tnKY"
   },
   "source": []
  },
  {
   "cell_type": "markdown",
   "metadata": {
    "id": "bVfJ8CEgb_wk"
   },
   "source": [
    "**Topic Modeling Using LDA**"
   ]
  },
  {
   "cell_type": "code",
   "execution_count": null,
   "metadata": {
    "colab": {
     "base_uri": "https://localhost:8080/"
    },
    "id": "oauAHcdrjL1D",
    "outputId": "78684ec8-ceaa-405e-9903-8cd6f74df151"
   },
   "outputs": [],
   "source": [
    "from google.colab import drive\n",
    "drive.mount('/content/drive')"
   ]
  },
  {
   "cell_type": "code",
   "execution_count": null,
   "metadata": {
    "colab": {
     "base_uri": "https://localhost:8080/"
    },
    "id": "i5O0OXxSjXuU",
    "outputId": "0c4b5b0f-61d2-46c5-aa7c-6e95377ece0e"
   },
   "outputs": [],
   "source": [
    "import os\n",
    "%cd \"/content/drive/MyDrive/Colab Notebooks gmail/datasets/\"\n",
    "%ls"
   ]
  },
  {
   "cell_type": "code",
   "execution_count": null,
   "metadata": {
    "id": "rcSgMVUdq5I9"
   },
   "outputs": [],
   "source": [
    "!kaggle datasets download -d tajakuz/gincodataframededuptraindevtest --force --unzip"
   ]
  },
  {
   "cell_type": "code",
   "execution_count": null,
   "metadata": {
    "id": "n4mHdzgTkdp-"
   },
   "outputs": [],
   "source": [
    "import pandas as pd\n",
    "papers = pd.read_csv('/content/drive/MyDrive/Colab Notebooks gmail/datasets/NIPS Papers/NIPS Papers/papers.csv')"
   ]
  },
  {
   "cell_type": "code",
   "execution_count": null,
   "metadata": {
    "id": "bqwElbCmlUJa"
   },
   "outputs": [],
   "source": [
    "papers"
   ]
  },
  {
   "cell_type": "code",
   "execution_count": null,
   "metadata": {
    "colab": {
     "base_uri": "https://localhost:8080/",
     "height": 206
    },
    "id": "AgCbjOmwl4uI",
    "outputId": "8cfbb968-d7d7-4cb1-e055-f3a008d1fcbc"
   },
   "outputs": [],
   "source": [
    "papers = papers.drop(columns=[\"id\", \"event_type\", \"pdf_name\"], axis=1).sample(100)\n",
    "papers.head()"
   ]
  },
  {
   "cell_type": "code",
   "execution_count": null,
   "metadata": {
    "id": "HHjXq_D0m5hc"
   },
   "outputs": [],
   "source": [
    "import re\n",
    "#remove punctuation\n",
    "papers['paper_text_processed'] = \\\n",
    "papers['paper_text'].map(lambda x: re.sub('[,\\.!?]', '', x))\n",
    "\n"
   ]
  },
  {
   "cell_type": "code",
   "execution_count": null,
   "metadata": {
    "id": "TDsYqwsqnOyQ"
   },
   "outputs": [],
   "source": [
    "#convert to lowercase\n",
    "papers['paper_text_processed'] = \\\n",
    "papers['paper_text_processed'].map(lambda x: x.lower())\n"
   ]
  },
  {
   "cell_type": "code",
   "execution_count": null,
   "metadata": {
    "colab": {
     "base_uri": "https://localhost:8080/"
    },
    "id": "05w4kr5inso0",
    "outputId": "f86fd6b2-21f8-4f73-9f41-38489eb8d61f"
   },
   "outputs": [],
   "source": [
    "papers[\"paper_text_processed\"].head()"
   ]
  },
  {
   "cell_type": "code",
   "execution_count": null,
   "metadata": {
    "colab": {
     "base_uri": "https://localhost:8080/",
     "height": 217
    },
    "id": "io-fTEgun12X",
    "outputId": "3553955b-b39e-49e1-e464-15ec1ea43370"
   },
   "outputs": [],
   "source": [
    "from wordcloud import WordCloud\n",
    "long_string = ','.join(list(papers['paper_text_processed'].values)) #join all papers\n",
    "wc = WordCloud(max_words=1000)\n",
    "wc.generate(long_string)\n",
    "wc.to_image()"
   ]
  },
  {
   "cell_type": "code",
   "execution_count": null,
   "metadata": {
    "colab": {
     "base_uri": "https://localhost:8080/"
    },
    "id": "s9m3cwqno84a",
    "outputId": "5f759616-51d4-47c2-b9eb-8c40caffae37"
   },
   "outputs": [],
   "source": [
    "import gensim\n",
    "from gensim.utils import simple_preprocess\n",
    "import nltk\n",
    "nltk.download('stopwords')\n",
    "from nltk.corpus import stopwords\n",
    "\n",
    "stop_words = stopwords.words('english')\n",
    "stop_words.extend(['from', 'subject', 're', 'edu', 'use'])\n",
    "\n"
   ]
  },
  {
   "cell_type": "code",
   "execution_count": null,
   "metadata": {
    "id": "KvYOrvxMpPnn"
   },
   "outputs": [],
   "source": [
    "def sent_to_words(sentences):\n",
    "    for sentence in sentences:\n",
    "        # deacc=True removes punctuations\n",
    "        yield(gensim.utils.simple_preprocess(str(sentence), deacc=True))"
   ]
  },
  {
   "cell_type": "code",
   "execution_count": null,
   "metadata": {
    "id": "kEu9qPbXpXRI"
   },
   "outputs": [],
   "source": [
    "def remove_stopwords(texts):\n",
    "    return [[word for word in simple_preprocess(str(doc)) \n",
    "             if word not in stop_words] for doc in texts]"
   ]
  },
  {
   "cell_type": "code",
   "execution_count": null,
   "metadata": {
    "colab": {
     "base_uri": "https://localhost:8080/",
     "height": 200
    },
    "id": "Mq-OjVuLpcKJ",
    "outputId": "28ac1acf-4ce2-43db-d0a6-81556e90b580"
   },
   "outputs": [],
   "source": [
    "data = papers.paper_text_processed.values.tolist()\n",
    "data_words = list(sent_to_words(data))\n",
    "data_words = remove_stopwords(data_words)"
   ]
  },
  {
   "cell_type": "code",
   "execution_count": null,
   "metadata": {
    "colab": {
     "base_uri": "https://localhost:8080/"
    },
    "id": "lol8hVp6p5mp",
    "outputId": "ff176423-1260-4164-fe5f-a91ea5d08533"
   },
   "outputs": [],
   "source": [
    "print(data_words[:1][0][:30])"
   ]
  },
  {
   "cell_type": "code",
   "execution_count": null,
   "metadata": {
    "colab": {
     "base_uri": "https://localhost:8080/"
    },
    "id": "CV1SklZiqOBu",
    "outputId": "ca882898-fd45-4191-8aba-77a98ac87cfe"
   },
   "outputs": [],
   "source": [
    "import gensim.corpora as corpora\n",
    "id2word = corpora.Dictionary(data_words)\n",
    "texts = data_words\n",
    "corpus = [id2word.doc2bow(text) for text in texts]\n",
    "\n",
    "print(corpus)"
   ]
  },
  {
   "cell_type": "code",
   "execution_count": null,
   "metadata": {
    "id": "WeUXraZGrtv6"
   },
   "outputs": [],
   "source": [
    "from pprint import pprint"
   ]
  },
  {
   "cell_type": "code",
   "execution_count": null,
   "metadata": {
    "id": "GFK38BHCq-RL"
   },
   "outputs": [],
   "source": [
    "#LDA model training\n",
    "num_topics = 10\n",
    "\n",
    "lda_model = gensim.models.LdaMulticore(corpus=corpus, id2word=id2word, num_topics=num_topics)\n",
    "\n",
    "pprint(lda_model.print_topics())\n",
    "doc_lda = lda_model[corpus]"
   ]
  },
  {
   "cell_type": "code",
   "execution_count": null,
   "metadata": {
    "colab": {
     "base_uri": "https://localhost:8080/"
    },
    "id": "h3W_u3Okr_oN",
    "outputId": "2885a3b5-e282-4ea0-9d6f-9496f4d7ef90"
   },
   "outputs": [],
   "source": [
    "!pip install pyLDAvis"
   ]
  },
  {
   "cell_type": "code",
   "execution_count": null,
   "metadata": {
    "colab": {
     "base_uri": "https://localhost:8080/"
    },
    "id": "z1zvWiuTsU_y",
    "outputId": "22cf2bcd-ba3a-410b-8c8a-3e9af62c038d"
   },
   "outputs": [],
   "source": [
    "!mkdir ./pyldavis_results"
   ]
  },
  {
   "cell_type": "code",
   "execution_count": null,
   "metadata": {
    "id": "1xi3D7Nvsg5f"
   },
   "outputs": [],
   "source": [
    "import pyLDAvis.gensim_models as gensimvis\n",
    "import pickle\n",
    "import pyLDAvis\n",
    "import os"
   ]
  },
  {
   "cell_type": "code",
   "execution_count": null,
   "metadata": {
    "id": "bkRKaFd8sxrE"
   },
   "outputs": [],
   "source": [
    "pyLDAvis.enable_notebook()"
   ]
  },
  {
   "cell_type": "code",
   "execution_count": null,
   "metadata": {
    "id": "MR9C8iGctQdw"
   },
   "outputs": [],
   "source": [
    "LDAvis_data_filepath = os.path.join('./pyldavis_results/ldavis_prepared_' + str(num_topics))"
   ]
  },
  {
   "cell_type": "code",
   "execution_count": null,
   "metadata": {
    "colab": {
     "base_uri": "https://localhost:8080/"
    },
    "id": "G01CumF2uLHg",
    "outputId": "2cf1410f-589d-44c6-cd6a-d677b42ee79a"
   },
   "outputs": [],
   "source": [
    "if 1 == 1:\n",
    "    LDAvis_prepared = gensimvis.prepare(lda_model, corpus, id2word)\n",
    "    with open(LDAvis_data_filepath, 'wb') as f:\n",
    "        pickle.dump(LDAvis_prepared, f)"
   ]
  },
  {
   "cell_type": "code",
   "execution_count": null,
   "metadata": {
    "id": "9Qj8OCloubLM"
   },
   "outputs": [],
   "source": [
    "with open(LDAvis_data_filepath, 'rb') as f:\n",
    "    LDAvis_prepared = pickle.load(f)"
   ]
  },
  {
   "cell_type": "code",
   "execution_count": null,
   "metadata": {
    "id": "nEJmiclOuenu"
   },
   "outputs": [],
   "source": [
    "pyLDAvis.save_html(LDAvis_prepared, './pyldavis_results/ldavis_prepared_'+ str(num_topics) +'.html')"
   ]
  },
  {
   "cell_type": "code",
   "execution_count": null,
   "metadata": {
    "colab": {
     "base_uri": "https://localhost:8080/",
     "height": 862
    },
    "id": "hdOvvb5ItwAn",
    "outputId": "512d20e1-c2cc-4b38-dd2a-74eb29190785"
   },
   "outputs": [],
   "source": [
    "LDAvis_prepared\n"
   ]
  },
  {
   "cell_type": "code",
   "execution_count": null,
   "metadata": {
    "id": "RIlt5h62tQ1v"
   },
   "outputs": [],
   "source": []
  },
  {
   "cell_type": "markdown",
   "metadata": {
    "id": "tTM-zaKNtnPf"
   },
   "source": []
  },
  {
   "cell_type": "markdown",
   "metadata": {
    "id": "lENv39ootnSD"
   },
   "source": []
  },
  {
   "cell_type": "markdown",
   "metadata": {
    "id": "O1KblURWtnVV"
   },
   "source": []
  },
  {
   "cell_type": "markdown",
   "metadata": {
    "id": "SFS_XNpvesT-"
   },
   "source": []
  }
 ],
 "metadata": {
  "colab": {
   "provenance": []
  },
  "kernelspec": {
   "display_name": "Python 3 (ipykernel)",
   "language": "python",
   "name": "python3"
  },
  "language_info": {
   "codemirror_mode": {
    "name": "ipython",
    "version": 3
   },
   "file_extension": ".py",
   "mimetype": "text/x-python",
   "name": "python",
   "nbconvert_exporter": "python",
   "pygments_lexer": "ipython3",
   "version": "3.9.13"
  }
 },
 "nbformat": 4,
 "nbformat_minor": 1
}
